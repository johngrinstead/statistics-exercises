{
 "cells": [
  {
   "cell_type": "code",
   "execution_count": 3,
   "metadata": {},
   "outputs": [],
   "source": [
    "import numpy as np\n",
    "import pandas as pd"
   ]
  },
  {
   "cell_type": "markdown",
   "metadata": {},
   "source": [
    "# Mage Duel!"
   ]
  },
  {
   "cell_type": "markdown",
   "metadata": {},
   "source": [
    "## Let's use what we've learned to play a mage duel!\n",
    "\n",
    "## Imagine your wizard has 6d4 health points and you have spells that do 6d4 damage. \"6d4\" means rolling six 4-sided dice and summing the result.\n",
    "\n",
    "## Your opposing mage has 4d6 health points and spells that do 4d6. \"4d6\" means rolling four six-sided dice and summing the result."
   ]
  },
  {
   "cell_type": "markdown",
   "metadata": {},
   "source": [
    "# Exercises\n",
    "\n",
    "## Simulate mage duels to answer who is the more powerful mage?\n",
    "\n",
    "## Before running simulations, do you have a hypothesis of which mage will win? Do you have a hunch? Write it down. This is your first exercise.\n",
    "\n",
    "## Simulate 10 mage duels. Is there a clear winner? Run that 10 duel simulation again. Was the answer similar?\n",
    "\n",
    "## Do the results change much at 100 duels?\n",
    "\n",
    "## Now, simulate 10,000 mage duels. Is there a clear winner?"
   ]
  },
  {
   "cell_type": "code",
   "execution_count": 1,
   "metadata": {},
   "outputs": [],
   "source": [
    "d4 = [1, 2, 3, 4]\n",
    "\n",
    "d6 = [1, 2, 3, 4, 5, 6]\n",
    "\n"
   ]
  },
  {
   "cell_type": "markdown",
   "metadata": {},
   "source": [
    "## Before running simulations, do you have a hypothesis of which mage will win? Do you have a hunch? Write it down. This is your first exercise.\n",
    "\n",
    "I expect my mage to win"
   ]
  },
  {
   "cell_type": "markdown",
   "metadata": {},
   "source": [
    "## Simulate 10 mage duels. Is there a clear winner? Run that 10 duel simulation again. Was the answer similar?\n",
    "\n",
    "I have 10% chance of winning"
   ]
  },
  {
   "cell_type": "code",
   "execution_count": 4,
   "metadata": {},
   "outputs": [
    {
     "data": {
      "text/plain": [
       "array([[3, 1, 3, 3, 2, 3],\n",
       "       [4, 1, 3, 1, 1, 1],\n",
       "       [1, 3, 4, 4, 2, 3],\n",
       "       [1, 4, 1, 2, 2, 3],\n",
       "       [1, 3, 2, 4, 4, 3],\n",
       "       [1, 2, 3, 2, 4, 1],\n",
       "       [4, 4, 2, 2, 1, 2],\n",
       "       [4, 3, 2, 3, 4, 2],\n",
       "       [2, 1, 4, 1, 1, 3],\n",
       "       [4, 1, 3, 3, 3, 1]])"
      ]
     },
     "execution_count": 4,
     "metadata": {},
     "output_type": "execute_result"
    }
   ],
   "source": [
    "your_health_rolls = np.random.choice(d4, size = (10, 6))\n",
    "\n",
    "your_health_rolls"
   ]
  },
  {
   "cell_type": "code",
   "execution_count": 5,
   "metadata": {},
   "outputs": [
    {
     "data": {
      "text/plain": [
       "array([15, 11, 17, 13, 17, 13, 15, 18, 12, 15])"
      ]
     },
     "execution_count": 5,
     "metadata": {},
     "output_type": "execute_result"
    }
   ],
   "source": [
    "your_health = your_health_rolls.sum(axis = 1)\n",
    "\n",
    "your_health"
   ]
  },
  {
   "cell_type": "code",
   "execution_count": 6,
   "metadata": {},
   "outputs": [
    {
     "data": {
      "text/plain": [
       "array([[6, 5, 3, 1],\n",
       "       [1, 5, 2, 4],\n",
       "       [6, 4, 4, 3],\n",
       "       [2, 5, 3, 5],\n",
       "       [4, 6, 6, 6],\n",
       "       [6, 1, 5, 1],\n",
       "       [4, 6, 4, 4],\n",
       "       [4, 3, 1, 3],\n",
       "       [6, 4, 5, 3],\n",
       "       [4, 3, 1, 4]])"
      ]
     },
     "execution_count": 6,
     "metadata": {},
     "output_type": "execute_result"
    }
   ],
   "source": [
    "enemy_health_rolls = np.random.choice(d6, size = (10, 4))\n",
    "\n",
    "enemy_health_rolls"
   ]
  },
  {
   "cell_type": "code",
   "execution_count": 7,
   "metadata": {},
   "outputs": [
    {
     "data": {
      "text/plain": [
       "array([15, 12, 17, 15, 22, 13, 18, 11, 18, 12])"
      ]
     },
     "execution_count": 7,
     "metadata": {},
     "output_type": "execute_result"
    }
   ],
   "source": [
    "enemy_health = enemy_health_rolls.sum(axis = 1)\n",
    "\n",
    "enemy_health"
   ]
  },
  {
   "cell_type": "code",
   "execution_count": 8,
   "metadata": {},
   "outputs": [
    {
     "data": {
      "text/plain": [
       "array([[1, 4, 3, 1, 1, 3],\n",
       "       [4, 2, 2, 1, 3, 3],\n",
       "       [3, 1, 3, 3, 2, 1],\n",
       "       [3, 2, 1, 2, 3, 1],\n",
       "       [2, 4, 4, 4, 1, 3],\n",
       "       [3, 1, 2, 3, 4, 3],\n",
       "       [4, 3, 2, 4, 1, 4],\n",
       "       [1, 2, 1, 3, 4, 4],\n",
       "       [1, 2, 2, 4, 3, 1],\n",
       "       [2, 4, 1, 1, 1, 3]])"
      ]
     },
     "execution_count": 8,
     "metadata": {},
     "output_type": "execute_result"
    }
   ],
   "source": [
    "your_damage_rolls = np.random.choice(d4, size = (10, 6))\n",
    "\n",
    "your_damage_rolls"
   ]
  },
  {
   "cell_type": "code",
   "execution_count": 9,
   "metadata": {},
   "outputs": [
    {
     "data": {
      "text/plain": [
       "array([13, 15, 13, 12, 18, 16, 18, 15, 13, 12])"
      ]
     },
     "execution_count": 9,
     "metadata": {},
     "output_type": "execute_result"
    }
   ],
   "source": [
    "your_damage = your_damage_rolls.sum(axis = 1)\n",
    "\n",
    "your_damage"
   ]
  },
  {
   "cell_type": "code",
   "execution_count": 10,
   "metadata": {
    "scrolled": true
   },
   "outputs": [
    {
     "data": {
      "text/plain": [
       "array([[6, 5, 3, 2],\n",
       "       [3, 5, 3, 1],\n",
       "       [6, 5, 3, 5],\n",
       "       [3, 3, 2, 2],\n",
       "       [6, 1, 3, 1],\n",
       "       [3, 1, 2, 1],\n",
       "       [1, 1, 6, 3],\n",
       "       [6, 6, 4, 3],\n",
       "       [1, 2, 1, 2],\n",
       "       [5, 3, 6, 3]])"
      ]
     },
     "execution_count": 10,
     "metadata": {},
     "output_type": "execute_result"
    }
   ],
   "source": [
    "enemy_damage_rolls = np.random.choice(d6, size = (10, 4))\n",
    "\n",
    "enemy_damage_rolls"
   ]
  },
  {
   "cell_type": "code",
   "execution_count": 11,
   "metadata": {},
   "outputs": [
    {
     "data": {
      "text/plain": [
       "array([16, 12, 19, 10, 11,  7, 11, 19,  6, 17])"
      ]
     },
     "execution_count": 11,
     "metadata": {},
     "output_type": "execute_result"
    }
   ],
   "source": [
    "enemy_damage = enemy_damage_rolls.sum(axis = 1)\n",
    "\n",
    "enemy_damage"
   ]
  },
  {
   "cell_type": "code",
   "execution_count": 13,
   "metadata": {},
   "outputs": [
    {
     "data": {
      "text/plain": [
       "0.1"
      ]
     },
     "execution_count": 13,
     "metadata": {},
     "output_type": "execute_result"
    }
   ],
   "source": [
    "you_win = ((your_health > enemy_damage) & (enemy_health < your_damage)).mean()\n",
    "\n",
    "you_win"
   ]
  },
  {
   "cell_type": "markdown",
   "metadata": {},
   "source": [
    "## Do the results change much at 100 duels?"
   ]
  },
  {
   "cell_type": "code",
   "execution_count": 14,
   "metadata": {},
   "outputs": [
    {
     "data": {
      "text/plain": [
       "0.31"
      ]
     },
     "execution_count": 14,
     "metadata": {},
     "output_type": "execute_result"
    }
   ],
   "source": [
    "your_health_rolls = np.random.choice(d4, size = (100, 6))\n",
    "\n",
    "your_health = your_health_rolls.sum(axis = 1)\n",
    "\n",
    "enemy_health_rolls = np.random.choice(d6, size = (100, 4))\n",
    "\n",
    "enemy_health = enemy_health_rolls.sum(axis = 1)\n",
    "\n",
    "your_damage_rolls = np.random.choice(d4, size = (100, 6))\n",
    "\n",
    "your_damage = your_damage_rolls.sum(axis = 1)\n",
    "\n",
    "enemy_damage_rolls = np.random.choice(d6, size = (100, 4))\n",
    "\n",
    "enemy_damage = enemy_damage_rolls.sum(axis = 1)\n",
    "\n",
    "you_win = ((your_health > enemy_damage) & (enemy_health < your_damage)).mean()\n",
    "\n",
    "you_win"
   ]
  },
  {
   "cell_type": "markdown",
   "metadata": {},
   "source": [
    "## Now, simulate 10,000 mage duels. Is there a clear winner?"
   ]
  },
  {
   "cell_type": "code",
   "execution_count": 15,
   "metadata": {},
   "outputs": [
    {
     "data": {
      "text/plain": [
       "0.3028"
      ]
     },
     "execution_count": 15,
     "metadata": {},
     "output_type": "execute_result"
    }
   ],
   "source": [
    "your_health_rolls = np.random.choice(d4, size = (10_000, 6))\n",
    "\n",
    "your_health = your_health_rolls.sum(axis = 1)\n",
    "\n",
    "enemy_health_rolls = np.random.choice(d6, size = (10_000, 4))\n",
    "\n",
    "enemy_health = enemy_health_rolls.sum(axis = 1)\n",
    "\n",
    "your_damage_rolls = np.random.choice(d4, size = (10_000, 6))\n",
    "\n",
    "your_damage = your_damage_rolls.sum(axis = 1)\n",
    "\n",
    "enemy_damage_rolls = np.random.choice(d6, size = (10_000, 4))\n",
    "\n",
    "enemy_damage = enemy_damage_rolls.sum(axis = 1)\n",
    "\n",
    "you_win = ((your_health > enemy_damage) & (enemy_health < your_damage)).mean()\n",
    "\n",
    "you_win"
   ]
  },
  {
   "cell_type": "code",
   "execution_count": null,
   "metadata": {},
   "outputs": [],
   "source": []
  }
 ],
 "metadata": {
  "kernelspec": {
   "display_name": "Python 3",
   "language": "python",
   "name": "python3"
  },
  "language_info": {
   "codemirror_mode": {
    "name": "ipython",
    "version": 3
   },
   "file_extension": ".py",
   "mimetype": "text/x-python",
   "name": "python",
   "nbconvert_exporter": "python",
   "pygments_lexer": "ipython3",
   "version": "3.8.5"
  }
 },
 "nbformat": 4,
 "nbformat_minor": 4
}
